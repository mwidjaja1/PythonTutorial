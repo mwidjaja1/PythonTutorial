{
 "cells": [
  {
   "cell_type": "markdown",
   "metadata": {},
   "source": [
    "# Lesson 3 (technically your 2nd): Booleans & Conditionals"
   ]
  },
  {
   "cell_type": "markdown",
   "metadata": {},
   "source": [
    "## Welcome to Legends of the Hidden Temple!\n",
    "Don't get your hopes up, not all exercises will be this themed\n",
    "\n",
    "Fill in the blank below to make the statements below true so you can escape the Hidden Temple.\n",
    "\n",
    "## Ground Rules for all Questions:\n",
    "1. NEVER change the print statements. They're right.\n",
    "2. Unless told otherwise, DO NOT change the variable values. This is all about Booleans & Conditionals, not your way to get around the dilemma I proposed.\n",
    "\n",
    "## Conditionals\n",
    "All right, let's get started. Fill in the blank here so that you get the right answer."
   ]
  },
  {
   "cell_type": "code",
   "execution_count": null,
   "metadata": {},
   "outputs": [],
   "source": [
    "x = -5\n",
    "\n",
    "if x ___:\n",
    "    print(f\"This is the right answer, you proceed to The Pit\")\n",
    "else:\n",
    "    print(f\"Oh this is not the right answer, a Temple Guard caught you. Try again.\")"
   ]
  },
  {
   "cell_type": "code",
   "execution_count": 3,
   "metadata": {
    "jupyter": {
     "source_hidden": true
    }
   },
   "outputs": [
    {
     "name": "stdout",
     "output_type": "stream",
     "text": [
      "This is the right answer, you proceed to The Pit\n"
     ]
    }
   ],
   "source": [
    "# Many answers work here. Here's an example.\n",
    "\n",
    "x = -5\n",
    "\n",
    "if x == -5:  # Other options could be like x < 0, x <= -5, x != 0, etc.\n",
    "    print(f\"This is the right answer, you proceed to The Pit\")\n",
    "else:\n",
    "    print(f\"Oh this is not the right answer, a Temple Guard caught you. Try again.\")"
   ]
  },
  {
   "cell_type": "markdown",
   "metadata": {},
   "source": [
    "You're in a giant ball pit and climb up to the Observatory. Inside, you need to turn the dial to the right direction to exit. The If statement below is WRONG (or at least, won't let you escape). Change it so you can escape."
   ]
  },
  {
   "cell_type": "code",
   "execution_count": null,
   "metadata": {},
   "outputs": [],
   "source": [
    "direction = 'North'\n",
    "\n",
    "# Do NOT add any lines to this, just modify what you see here.\n",
    "if direction == 'south':\n",
    "    print(f\"How did you get this? This is SO not the right answer, a Temple Guard caught you. Try again.\")\n",
    "elif direction == 'north':\n",
    "    print(f\"This is the right answer, you proceed to The Room of Many Pots\")\n",
    "else:\n",
    "    print(f\"Oh this is not the right answer, a Temple Guard caught you. Try again.\")"
   ]
  },
  {
   "cell_type": "code",
   "execution_count": 5,
   "metadata": {
    "jupyter": {
     "source_hidden": true
    }
   },
   "outputs": [
    {
     "name": "stdout",
     "output_type": "stream",
     "text": [
      "This is the right answer, you proceed to The Pit\n"
     ]
    }
   ],
   "source": [
    "direction = 'North'\n",
    "\n",
    "# Do NOT add any lines to this, just modify what you see here.\n",
    "if direction == 'south':\n",
    "    print(f\"How did you get this? This is SO not the right answer, a Temple Guard caught you. Try again.\")\n",
    "elif direction == 'North':\n",
    "    print(f\"This is the right answer, you proceed to The Pit\")\n",
    "else:\n",
    "    print(f\"Oh this is not the right answer, a Temple Guard caught you. Try again.\")"
   ]
  },
  {
   "cell_type": "markdown",
   "metadata": {},
   "source": [
    "## Booleans + Conditionals\n",
    "\n",
    "(Yes the room of many pots was an actual name of a room)\n",
    "\n",
    "Fill in the blank below to make the statement true"
   ]
  },
  {
   "cell_type": "code",
   "execution_count": null,
   "metadata": {},
   "outputs": [],
   "source": [
    "# This is the answer key\n",
    "right_pot = False\n",
    "center_pot = True\n",
    "left_pot = False\n",
    "\n",
    "if ________:\n",
    "    print(f\"This is the right answer, you proceed to The Room of the Silver Monkey\")\n",
    "else:\n",
    "    print(f\"Oh this is not the right answer, a Temple Guard caught you. Try again.\")"
   ]
  },
  {
   "cell_type": "code",
   "execution_count": 7,
   "metadata": {
    "jupyter": {
     "source_hidden": true
    }
   },
   "outputs": [
    {
     "name": "stdout",
     "output_type": "stream",
     "text": [
      "This is the right answer, you proceed to The Room of the Silver Monkey\n"
     ]
    }
   ],
   "source": [
    "# This is the answer key\n",
    "right_pot = False\n",
    "center_pot = True\n",
    "left_pot = False\n",
    "\n",
    "if center_pot:  # We would have accepted center_pot==True too but this shorthand works\n",
    "    print(f\"This is the right answer, you proceed to The Room of the Silver Monkey\")\n",
    "else:\n",
    "    print(f\"Oh this is not the right answer, a Temple Guard caught you. Try again.\")"
   ]
  },
  {
   "cell_type": "markdown",
   "metadata": {},
   "source": [
    "## Advanced Conditionals\n",
    "For those of you who watched this show, you're in the Room of the Silver Monkey, you know I'm making this exercise harder.\n",
    "\n",
    "You're supposed to build the monkey with feet first, then chest, and then head WHICH EVERYONE KNOWS BUT NOBODY EVER DID.\n",
    "\n",
    "For these next three exercises, you will:\n",
    "* See how three contestants built their monkey. The numbering here is relative for each constestant -- the smallest number is the part they installed first. The largest number is the part they installed last.\n",
    "* Remember it's feet first, then chest, then head.\n",
    "* You will create ONE conditional block that must work to all three exercises. No changes, no nothing. One block for all three monkeys.\n",
    "* That conditional block must tell me the first moment the contestant went wrong."
   ]
  },
  {
   "cell_type": "code",
   "execution_count": null,
   "metadata": {},
   "outputs": [],
   "source": [
    "# Contestant One: This is the order they built their monkey in:\n",
    "feet = 2\n",
    "chest = 1\n",
    "head = 3\n",
    "\n",
    "# Where did this contestant go wrong? Build an if statement that precisely picks out that point.\n",
    "_______________:\n",
    "    print(f\"This contestant's first part was wrong\")\n",
    "_______________:\n",
    "    print(f\"This contestant's second part was wrong\")\n",
    "_______________:\n",
    "    print(f\"The contestant put the feet first, then chest, and then head! They did it!\")"
   ]
  },
  {
   "cell_type": "code",
   "execution_count": null,
   "metadata": {},
   "outputs": [],
   "source": [
    "# Contestant Two: This is the order they built their monkey in:\n",
    "feet = 1\n",
    "chest = 10\n",
    "head = 2\n",
    "\n",
    "# Where did this contestant go wrong? Build an if statement that precisely picks out that point.\n",
    "_______________:\n",
    "    print(f\"This contestant's first part was wrong\")\n",
    "_______________:\n",
    "    print(f\"This contestant's second part was wrong\")\n",
    "_______________:\n",
    "    print(f\"The contestant put the feet first, then chest, and then head! They did it!\")"
   ]
  },
  {
   "cell_type": "code",
   "execution_count": null,
   "metadata": {},
   "outputs": [],
   "source": [
    "# Contestant Three: This is the order they built their monkey in:\n",
    "feet = 1\n",
    "chest = 2.2\n",
    "head = 3\n",
    "\n",
    "# Where did this contestant go wrong? Build an if statement that precisely picks out that point.\n",
    "_______________:\n",
    "    print(f\"This contestant's first part was wrong\")\n",
    "_______________:\n",
    "    print(f\"This contestant's second part was wrong\")\n",
    "_______________:\n",
    "    print(f\"The contestant put the feet first, then chest, and then head! They did it!\")"
   ]
  },
  {
   "cell_type": "code",
   "execution_count": 13,
   "metadata": {
    "collapsed": true,
    "jupyter": {
     "outputs_hidden": true,
     "source_hidden": true
    }
   },
   "outputs": [
    {
     "name": "stdout",
     "output_type": "stream",
     "text": [
      "This contestant's first part was wrong\n",
      "This contestant's second part was wrong\n",
      "The contestant put the feet first, then chest, and then head! They did it!\n"
     ]
    }
   ],
   "source": [
    "# Contestant One: This is the order they built their monkey in:\n",
    "feet = 2\n",
    "chest = 1\n",
    "head = 3\n",
    "\n",
    "# Where did this contestant go wrong? Build an if statement that precisely picks out that point.\n",
    "if feet != 1:\n",
    "    print(f\"This contestant's first part was wrong\")\n",
    "elif chest > head:\n",
    "    print(f\"This contestant's second part was wrong\")\n",
    "else:\n",
    "    print(f\"The contestant put the feet first, then chest, and then head! They did it!\")\n",
    "    \n",
    "    \n",
    "# Contestant Two: This is the order they built their monkey in:\n",
    "feet = 1\n",
    "chest = 10\n",
    "head = 2\n",
    "\n",
    "# Where did this contestant go wrong? Build an if statement that precisely picks out that point.\n",
    "if feet != 1:\n",
    "    print(f\"This contestant's first part was wrong\")\n",
    "elif chest > head:\n",
    "    print(f\"This contestant's second part was wrong\")\n",
    "else:\n",
    "    print(f\"The contestant put the feet first, then chest, and then head! They did it!\")\n",
    "    \n",
    "    \n",
    "# Contestant Three: This is the order they built their monkey in:\n",
    "feet = 1\n",
    "chest = 2.2\n",
    "head = 3\n",
    "\n",
    "# Where did this contestant go wrong? Build an if statement that precisely picks out that point.\n",
    "if feet != 1:\n",
    "    print(f\"This contestant's first part was wrong\")\n",
    "elif chest > head:\n",
    "    print(f\"This contestant's second part was wrong\")\n",
    "else:\n",
    "    print(f\"The contestant put the feet first, then chest, and then head! They did it!\")"
   ]
  },
  {
   "cell_type": "markdown",
   "metadata": {},
   "source": [
    "While figuring that out, you found the prize of the day and started running out of the temple! Will you get out?\n",
    "\n",
    "In this last example, you CAN change the variable values but CANNOT change the Conditional. Change the variable values so you can escape."
   ]
  },
  {
   "cell_type": "code",
   "execution_count": null,
   "metadata": {},
   "outputs": [],
   "source": [
    "# Where are the Temple Guards?\n",
    "temple_guard_1 = 'Room1'\n",
    "temple_guard_2 = 'Room3'\n",
    "\n",
    "# If you jump, it'll make you slower, but will help you escape the Temple Guard.\n",
    "# You need to be wise, there's not a lot of time! What should you do in each room?\n",
    "room1_jump = False\n",
    "room2_jump = False\n",
    "room3_jump = False\n",
    "\n",
    "# All right, here goes nothing, don't change this if conditional. Will you make it out?\n",
    "if (temple_guard_1 == 'Room1' or temple_guard_2 == 'Room1') and not room1_jump:\n",
    "    print(f\"You got defeated in Room 1\")\n",
    "elif (temple_guard_1 != 'Room1' and temple_guard_2 != 'Room1') and room1_jump:\n",
    "    print(f\"You jumped when you didn't have to in Room 1! You ran out of time and got trapped\")\n",
    "elif (temple_guard_1 == 'Room2' or temple_guard_2 == 'Room2') and not room2_jump:\n",
    "    print(f\"You got defeated in Room 2\")\n",
    "elif (temple_guard_1 != 'Room2' and temple_guard_2 != 'Room2') and room2_jump:\n",
    "    print(f\"You jumped when you didn't have to in Room 2! You ran out of time and got trapped\")\n",
    "elif (temple_guard_1 == 'Room3' or temple_guard_2 == 'Room3') and not room3_jump:\n",
    "    print(f\"You got defeated in Room 3\")\n",
    "elif (temple_guard_1 != 'Room3' and temple_guard_2 != 'Room3') and room3_jump:\n",
    "    print(f\"You jumped when you didn't have to in Room 3! You ran out of time and got trapped\")\n",
    "else:\n",
    "    print(f\"You escaped! You did it! You're going to Space Camp!\")"
   ]
  },
  {
   "cell_type": "code",
   "execution_count": 21,
   "metadata": {
    "jupyter": {
     "source_hidden": true
    }
   },
   "outputs": [
    {
     "name": "stdout",
     "output_type": "stream",
     "text": [
      "You escaped! You did it! You're going to Space Camp!\n"
     ]
    }
   ],
   "source": [
    "# Where are the Temple Guards?\n",
    "temple_guard_1 = 'Room1'\n",
    "temple_guard_2 = 'Room3'\n",
    "\n",
    "# If you jump, it'll make you slower, but will help you escape the Temple Guard.\n",
    "# You need to be wise, there's not a lot of time! What should you do in each room?\n",
    "room1_jump = True\n",
    "room2_jump = False\n",
    "room3_jump = True\n",
    "\n",
    "# All right, here goes nothing, don't change this if conditional. Will you make it out?\n",
    "if (temple_guard_1 == 'Room1' or temple_guard_2 == 'Room1') and not room1_jump:\n",
    "    print(f\"You got defeated in Room 1\")\n",
    "elif (temple_guard_1 != 'Room1' and temple_guard_2 != 'Room1') and room1_jump:\n",
    "    print(f\"You jumped when you didn't have to in Room 1! You ran out of time and got trapped\")\n",
    "elif (temple_guard_1 == 'Room2' or temple_guard_2 == 'Room2') and not room2_jump:\n",
    "    print(f\"You got defeated in Room 2\")\n",
    "elif (temple_guard_1 != 'Room2' and temple_guard_2 != 'Room2') and room2_jump:\n",
    "    print(f\"You jumped when you didn't have to in Room 2! You ran out of time and got trapped\")\n",
    "elif (temple_guard_1 == 'Room3' or temple_guard_2 == 'Room3') and not room3_jump:\n",
    "    print(f\"You got defeated in Room 3\")\n",
    "elif (temple_guard_1 != 'Room3' and temple_guard_2 != 'Room3') and room3_jump:\n",
    "    print(f\"You jumped when you didn't have to in Room 3! You ran out of time and got trapped\")\n",
    "else:\n",
    "    print(f\"You escaped! You did it! You're going to Space Camp!\")"
   ]
  },
  {
   "cell_type": "markdown",
   "metadata": {},
   "source": [
    "## Next Steps\n",
    "Go to what is Kaggle's Fourth Lesson about Lists"
   ]
  }
 ],
 "metadata": {
  "kernelspec": {
   "display_name": "Python 3",
   "language": "python",
   "name": "python3"
  },
  "language_info": {
   "codemirror_mode": {
    "name": "ipython",
    "version": 3
   },
   "file_extension": ".py",
   "mimetype": "text/x-python",
   "name": "python",
   "nbconvert_exporter": "python",
   "pygments_lexer": "ipython3",
   "version": "3.7.6"
  }
 },
 "nbformat": 4,
 "nbformat_minor": 4
}
