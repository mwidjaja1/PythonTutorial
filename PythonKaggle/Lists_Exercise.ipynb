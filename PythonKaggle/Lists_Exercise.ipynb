{
 "cells": [
  {
   "cell_type": "markdown",
   "metadata": {},
   "source": [
    "# Lesson 4 (technically your 3rd): Lists\n",
    "\n",
    "## Indexing\n",
    "\n",
    "This list below contains all the things my brother, Michael likes. However, one of these things are a lie. Set the item that is a lie to the variable x."
   ]
  },
  {
   "cell_type": "code",
   "execution_count": null,
   "metadata": {},
   "outputs": [],
   "source": [
    "things_michael_likes = ['Trains', 'Tea', 'Getting Dirty', 'iPhones']\n",
    "\n",
    "# Set this to the item in the list that Michael dislikes. Don't just copy & paste the item, actually index it here.\n",
    "x = ________\n",
    "\n",
    "print(f\"According to you, Michael doesn't like {x}\")"
   ]
  },
  {
   "cell_type": "code",
   "execution_count": 1,
   "metadata": {
    "jupyter": {
     "source_hidden": true
    }
   },
   "outputs": [
    {
     "name": "stdout",
     "output_type": "stream",
     "text": [
      "According to you, Michael doesn't like Getting Dirty\n"
     ]
    }
   ],
   "source": [
    "things_michael_likes = ['Trains', 'Tea', 'Getting Dirty', 'iPhones']\n",
    "\n",
    "# Set this to the item in the list that Michael dislikes. Don't just copy & paste the item, actually index it here.\n",
    "x = things_michael_likes[2]\n",
    "\n",
    "print(f\"According to you, Michael doesn't like {x}\")"
   ]
  },
  {
   "cell_type": "markdown",
   "metadata": {},
   "source": [
    "Yeah Michael hates getting dirty. Well, Michael's onto his tea routine now. Below is a list of the different teas Michael likes and how many tea bags he has remaining in which one. Set x to the name of the tea that is most plentiful so Michael knows what to drink.\n",
    "\n",
    "(Not like it matters, he'll make his own choice anyway)"
   ]
  },
  {
   "cell_type": "code",
   "execution_count": null,
   "metadata": {},
   "outputs": [],
   "source": [
    "michael_teas = [['Green', 15], ['Black', 25], ['Herbal', 50]]\n",
    "\n",
    "# Set this to the name of the tea that is most plentiful. Don't just copy & paste the item, actually index it here.\n",
    "x = ___________\n",
    "\n",
    "print(f\"According to you, Michael should drink {x} tea today\")"
   ]
  },
  {
   "cell_type": "code",
   "execution_count": 2,
   "metadata": {
    "jupyter": {
     "source_hidden": true
    }
   },
   "outputs": [
    {
     "name": "stdout",
     "output_type": "stream",
     "text": [
      "According to you, Michael should drink Herbal tea today\n"
     ]
    }
   ],
   "source": [
    "michael_teas = [['Green', 15], ['Black', 25], ['Herbal', 50]]\n",
    "\n",
    "# Set this to the name of the tea that is most plentiful. Don't just copy & paste the item, actually index it here.\n",
    "x = michael_teas[2][0]  # A 'really' cool answer would have been michael_teas[-1][0] too.\n",
    "\n",
    "print(f\"According to you, Michael should drink {x} tea today\")"
   ]
  },
  {
   "cell_type": "markdown",
   "metadata": {},
   "source": [
    "Well great, Michael now will choose Herbal Tea (begrugingly). Michael now grabbed his iPhone and will watch some movies on it. Out of this catalog of movies on the internet, slice the movies that Michael should watch... and one his innocent eyes shouldn't watch."
   ]
  },
  {
   "cell_type": "code",
   "execution_count": null,
   "metadata": {},
   "outputs": [],
   "source": [
    "movies_online = [\"Blair Witch Project\", \"It\", \"Barney\", \"Disney Sing Along Songs\"]\n",
    "\n",
    "# Set this to the not-rated-R films Michael should watch. Don't just copy & paste the item, actually index it here.\n",
    "x = ___________\n",
    "\n",
    "print(f\"According to you, Michael should watch {x} movies today\")"
   ]
  },
  {
   "cell_type": "code",
   "execution_count": 7,
   "metadata": {
    "jupyter": {
     "source_hidden": true
    }
   },
   "outputs": [
    {
     "name": "stdout",
     "output_type": "stream",
     "text": [
      "According to you, Michael should watch ['Richard Scarry', 'Disney Sing Along Songs'] movies today\n"
     ]
    }
   ],
   "source": [
    "movies_online = [\"Blair Witch Project\", \"It\", \"Barney\", \"Disney Sing Along Songs\"]\n",
    "\n",
    "# Set this to the not-rated-R films Michael should watch. Don't just copy & paste the item, actually index it here.\n",
    "x = movies_online[2:4]  # Also movies_online[2:4] would have worked.\n",
    "\n",
    "# If you're wondering why movies_online[2:3] or movies_online[2:-1] didn't work, it's because Python doesn't return you the last value.\n",
    "# To capture that last value, you need add +1 to the final value's index.\n",
    "\n",
    "print(f\"According to you, Michael should watch {x} movies today\")"
   ]
  },
  {
   "cell_type": "markdown",
   "metadata": {},
   "source": [
    "## Interacting with Lists\n",
    "Michael noticed that Matthew has list of favorite people and is wondering if he's on it... hmm..."
   ]
  },
  {
   "cell_type": "code",
   "execution_count": null,
   "metadata": {},
   "outputs": [],
   "source": [
    "matthew_favorite_people = ['Imagineers', 'Tim Apple', 'Every Barista', 'Michael']\n",
    "\n",
    "# Create a Conditional Here to see if 'Michael' is in this list\n",
    "# Tip: You should build a conditional that'll work no matter where 'Michael' is on the list.\n",
    "if ____________:\n",
    "    print(\"Don't worry Michael, you're on there!\")\n",
    "else:\n",
    "    print(\"Destroy Matthew. (Also you got this wrong.)\")"
   ]
  },
  {
   "cell_type": "code",
   "execution_count": 20,
   "metadata": {
    "jupyter": {
     "source_hidden": true
    }
   },
   "outputs": [
    {
     "name": "stdout",
     "output_type": "stream",
     "text": [
      "Don't worry Michael, you're on there!\n"
     ]
    }
   ],
   "source": [
    "matthew_favorite_people = ['Imagineers', 'Tim Apple', 'Every Barista', 'Michael']\n",
    "\n",
    "# Create a Conditional Here to see if 'Michael' is in this list\n",
    "if 'Michael' in matthew_favorite_people:\n",
    "    print(\"Don't worry Michael, you're on there!\")\n",
    "else:\n",
    "    print(\"Destroy Matthew. (Also you got this wrong.)\")"
   ]
  },
  {
   "cell_type": "markdown",
   "metadata": {},
   "source": [
    "That's great Michael, you are on... wait... HOW MANY PEOPLE ARE ON THERE?"
   ]
  },
  {
   "cell_type": "code",
   "execution_count": null,
   "metadata": {},
   "outputs": [],
   "source": [
    "matthew_favorite_people = ['Imagineers', 'Tim Apple', 'Every Barista', 'Michael']\n",
    "\n",
    "# How many people are on that list? Don't just type in the answer.\n",
    "x = ______\n",
    "\n",
    "print(f\"There are {x} people on the list?! Not just 1?! MATT-CHEWWWWW\")"
   ]
  },
  {
   "cell_type": "code",
   "execution_count": 22,
   "metadata": {
    "jupyter": {
     "source_hidden": true
    }
   },
   "outputs": [
    {
     "name": "stdout",
     "output_type": "stream",
     "text": [
      "There are 4 people on the list?! Not just 1?! MATT-CHEWWWWW\n"
     ]
    }
   ],
   "source": [
    "matthew_favorite_people = ['Imagineers', 'Tim Apple', 'Every Barista', 'Michael']\n",
    "\n",
    "# How many people are on that list? Don't just type in the answer.\n",
    "x = len(matthew_favorite_people)\n",
    "\n",
    "print(f\"There are {x} people on the list?! Not just 1?! MATT-CHEWWWWW\")"
   ]
  },
  {
   "cell_type": "markdown",
   "metadata": {},
   "source": [
    "## Tuples vs. Lists\n",
    "\n",
    "In this challenge, you'll see three data structures. Determine which ones should be a Tuple and which one should be a List, based on whether you think those values will change in the future."
   ]
  },
  {
   "cell_type": "code",
   "execution_count": null,
   "metadata": {},
   "outputs": [],
   "source": [
    "# Fill in the blank with the syntax to make a list or tuple\n",
    "michael_places_last_week = __\"Trader Joes\", \"Whole Foods\"__\n",
    "michael_birth_city = __\"Jackson\", \"New Jersey\"__  # Before you get excited, I just made this up.\n",
    "\n",
    "print(f\"You said that Michael's Places last week is an {type(michael_places_last_week)} and Birth City is an {type(michael_birth_city)}\")"
   ]
  },
  {
   "cell_type": "code",
   "execution_count": 19,
   "metadata": {
    "jupyter": {
     "source_hidden": true
    }
   },
   "outputs": [
    {
     "name": "stdout",
     "output_type": "stream",
     "text": [
      "You said that Michael's Places last week is an <class 'list'> and Birth City is an <class 'tuple'>\n"
     ]
    }
   ],
   "source": [
    "# Fill in the blank with the syntax to make a list or tuple\n",
    "michael_places_last_week = [\"Trader Joes\", \"Whole Foods\"]\n",
    "michael_birth_city = (\"Jackson\", \"New Jersey\")  # Before you get excited, I just made this up.\n",
    "\n",
    "print(f\"You said that Michael's Places last week is an {type(michael_places_last_week)} and Birth City is an {type(michael_birth_city)}\")"
   ]
  },
  {
   "cell_type": "markdown",
   "metadata": {},
   "source": [
    "## [Advanced] Interacting with Lists\n",
    "\n",
    "So Matthew has some things on his to-do list before he takes Michael outside. How rude. Rearrange the list so that Matthew takes Michael outside right now. "
   ]
  },
  {
   "cell_type": "code",
   "execution_count": null,
   "metadata": {},
   "outputs": [],
   "source": [
    "# Do not modify this list\n",
    "matthew_to_do_list = ['Blame Trevor', 'Listen to Puns from Frank and Gina', 'Make Memes', 'Take Michael Outside']\n",
    "\n",
    "# Run some commands here to change this list so everything is still here, but, Michael going outside is first.\n",
    "\n",
    "\n",
    "print(f\"The first thing Matt will do is {matthew_to_do_list[0]}. The rest of his list is {matthew_to_do_list[1:]}\")"
   ]
  },
  {
   "cell_type": "code",
   "execution_count": 13,
   "metadata": {},
   "outputs": [
    {
     "name": "stdout",
     "output_type": "stream",
     "text": [
      "The first thing Matt will do is Take Michael Outside. The rest of his list is ['Listen to Puns from Frank and Gina', 'Make Memes', 'Blame Trevor']\n"
     ]
    }
   ],
   "source": [
    "# Do not modify this list\n",
    "matthew_to_do_list = ['Blame Trevor', 'Listen to Puns from Frank and Gina', 'Make Memes', 'Take Michael Outside']\n",
    "\n",
    "# Run some commands here to change this list so everything is printed here once, but, Michael going outside is first.\n",
    "last_item = matthew_to_do_list.pop()  # This removes \"Take Michael Outside\" from the list and saves it as last_item\n",
    "matthew_to_do_list.append(matthew_to_do_list[0])  # This adds, but does not delete, the first item, \"Blame Trevor\" to the end of the list\n",
    "matthew_to_do_list[0] = last_item  # This replaces the first item from \"Blame Trevor\" to \"Take Michael Outside'\"\n",
    "\n",
    "print(f\"The first thing Matt will do is {matthew_to_do_list[0]}. The rest of his list is {matthew_to_do_list[1:]}\")"
   ]
  },
  {
   "cell_type": "markdown",
   "metadata": {},
   "source": [
    "## Next Steps\n",
    "Proceed to Kaggle's Lesson 5 on Loops & List Comprehensions (we are now starting to get really dangerous!)"
   ]
  }
 ],
 "metadata": {
  "kernelspec": {
   "display_name": "Python 3",
   "language": "python",
   "name": "python3"
  },
  "language_info": {
   "codemirror_mode": {
    "name": "ipython",
    "version": 3
   },
   "file_extension": ".py",
   "mimetype": "text/x-python",
   "name": "python",
   "nbconvert_exporter": "python",
   "pygments_lexer": "ipython3",
   "version": "3.7.6"
  }
 },
 "nbformat": 4,
 "nbformat_minor": 4
}
