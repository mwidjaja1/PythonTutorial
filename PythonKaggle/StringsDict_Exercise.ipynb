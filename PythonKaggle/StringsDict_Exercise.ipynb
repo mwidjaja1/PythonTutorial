{
 "cells": [
  {
   "cell_type": "markdown",
   "metadata": {},
   "source": [
    "# Lesson 6 (technically your 5th): Strings & Dictionaries"
   ]
  },
  {
   "cell_type": "markdown",
   "metadata": {},
   "source": [
    "## Strings\n",
    "This is going to be a lightning round challenge. Below are some strings and I want you to:\n",
    "\n",
    "1. Make sure they're formatted correctly. Remember you can use either single or double quotes to wrap them up.\n",
    "2. What will be printed out?\n",
    "3. Guess what the length of these strings are before you run them\n",
    "\n",
    "Go!"
   ]
  },
  {
   "cell_type": "code",
   "execution_count": null,
   "metadata": {},
   "outputs": [],
   "source": [
    "a = \"\"\n",
    "print(f\"The string is: '{a}' -- it's {len(a)} characters long\")"
   ]
  },
  {
   "cell_type": "code",
   "execution_count": null,
   "metadata": {},
   "outputs": [],
   "source": [
    "b = \"it's ok\"\n",
    "print(f\"The string is: '{b}' -- it's {len(b)} characters long\")"
   ]
  },
  {
   "cell_type": "code",
   "execution_count": null,
   "metadata": {},
   "outputs": [],
   "source": [
    "c = \"it\\'s ok\"\n",
    "print(f\"The string is: '{c}' -- it's {len(c)} characters long\")"
   ]
  },
  {
   "cell_type": "code",
   "execution_count": null,
   "metadata": {},
   "outputs": [],
   "source": [
    "d = 'I can't believe you did that'\n",
    "print(f\"The string is: '{d}' -- it's {len(d)} characters long\")"
   ]
  },
  {
   "cell_type": "code",
   "execution_count": null,
   "metadata": {},
   "outputs": [],
   "source": [
    "e = \"\\n\"\n",
    "print(f\"The string is: '{e}' -- it's {len(e)} characters long\")"
   ]
  },
  {
   "cell_type": "markdown",
   "metadata": {},
   "source": [
    "Most of Data Science is cleaning up crappy data and well, that's what you'll be doing now.\n",
    "\n",
    "Below I'm giving you a horrible list of zip codes, but yes, they are somehow zip codes deep down inside. Create a for loop to parse this list and return to me actual valid zip codes."
   ]
  },
  {
   "cell_type": "code",
   "execution_count": null,
   "metadata": {},
   "outputs": [],
   "source": [
    "zipcodes = [\"08094\", 08094, \"08817 \", \"08817\\n\\t\"]\n",
    "new_zipcodes = []\n",
    "\n",
    "# Create your for loop here -- save your values in new_zipcodes\n",
    "\n",
    "print(f\"My corrected zipcodes are {new_zipcodes}\")"
   ]
  },
  {
   "cell_type": "code",
   "execution_count": 9,
   "metadata": {
    "jupyter": {
     "source_hidden": true
    }
   },
   "outputs": [
    {
     "name": "stdout",
     "output_type": "stream",
     "text": [
      "My corrected zipcodes are ['08094', '80094', '08817', '08817']\n"
     ]
    }
   ],
   "source": [
    "zipcodes = [\"08094\", 80094, \"08817 \", \"08817\\n\\t\"]\n",
    "new_zipcodes = []\n",
    "\n",
    "# Create your for loop here -- save your values in new_zipcodes\n",
    "for zipcode in zipcodes:\n",
    "    zipcode = str(zipcode)  # They must be strings. If we had '08094' as an int, it would have became 8094.\n",
    "    zipcode = zipcode.strip()  # This deletes the whitespace characters before and after the string\n",
    "    new_zipcodes.append(zipcode)  # This adds the zipcode to our final list\n",
    "\n",
    "print(f\"My corrected zipcodes are {new_zipcodes}\")"
   ]
  },
  {
   "cell_type": "markdown",
   "metadata": {},
   "source": [
    "## Dictionaries"
   ]
  },
  {
   "cell_type": "code",
   "execution_count": null,
   "metadata": {},
   "outputs": [],
   "source": []
  }
 ],
 "metadata": {
  "kernelspec": {
   "display_name": "Python 3",
   "language": "python",
   "name": "python3"
  },
  "language_info": {
   "codemirror_mode": {
    "name": "ipython",
    "version": 3
   },
   "file_extension": ".py",
   "mimetype": "text/x-python",
   "name": "python",
   "nbconvert_exporter": "python",
   "pygments_lexer": "ipython3",
   "version": "3.7.6"
  }
 },
 "nbformat": 4,
 "nbformat_minor": 4
}
