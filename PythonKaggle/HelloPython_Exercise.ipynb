{
 "cells": [
  {
   "cell_type": "markdown",
   "metadata": {},
   "source": [
    "# Lesson 1: Hello, Python\n",
    "\n",
    "Welcome to the Exercises for Lesson 1!\n",
    "\n",
    "If you're here, you probably have never used Jupyter-Lab before so where the heck are you? Well, Jupyter Notebooks is a very special package somebody made for Python, where you can see both code and English text together in a less intimidating way. All the Python Code you see here, on paper, would work if you used it in a script (of course, take *all* the Python Code with you if you did that.)\n",
    "\n",
    "Let's get started. The following block is a Code Block. Click on that box and then hit the Play Button to run it."
   ]
  },
  {
   "cell_type": "code",
   "execution_count": null,
   "metadata": {},
   "outputs": [],
   "source": [
    "print('You did it! Proceed to the next line!')"
   ]
  },
  {
   "cell_type": "markdown",
   "metadata": {},
   "source": [
    "Let's get fancy. Fill in the blank below on what you think x will be."
   ]
  },
  {
   "cell_type": "code",
   "execution_count": null,
   "metadata": {},
   "outputs": [],
   "source": [
    "x = 2 + 2\n",
    "x_will_be = ____\n",
    "\n",
    "if x == x_will_be:\n",
    "    print(\"You did it, move on!\")\n",
    "else:\n",
    "    print(\"This isn't what we expected...\")"
   ]
  },
  {
   "cell_type": "markdown",
   "metadata": {},
   "source": [
    "## Numbers\n",
    "Let's start with some math. Could you give me two variables for radius & area?"
   ]
  },
  {
   "cell_type": "code",
   "execution_count": null,
   "metadata": {},
   "outputs": [],
   "source": [
    "pi = 3.14159 # approximate\n",
    "diameter = 3\n",
    "\n",
    "# Create a variable called 'radius' so it's equal to half the diameter\n",
    "\n",
    "\n",
    "# Create a variable called 'area' using the formula pi times radius squared\n",
    "\n",
    "\n",
    "print(f\"The radius is {radius} and area is {area}\")"
   ]
  },
  {
   "cell_type": "markdown",
   "metadata": {},
   "source": [
    "How did you do? Click on the triple dots below to see a hidden code block with the correct answer.\n",
    "\n",
    "(Side Note: For some reason on my Mac, I don't see that triple dots icon below. I'm hoping it's just a me thing. But if it's for you too, if you hover your mouse to the lower left under this text, you should see the highlight of the button appear. FYI, going forward, for every single exercise, this button will be there with the solution so you can check your work)"
   ]
  },
  {
   "cell_type": "code",
   "execution_count": 2,
   "metadata": {
    "jupyter": {
     "source_hidden": true
    }
   },
   "outputs": [
    {
     "name": "stdout",
     "output_type": "stream",
     "text": [
      "The radius is 1.5 and area is 7.0685775\n"
     ]
    }
   ],
   "source": [
    "pi = 3.14159 # approximate\n",
    "diameter = 3\n",
    "\n",
    "# Create a variable called 'radius' so it's equal to half the diameter\n",
    "radius = diameter/2\n",
    "\n",
    "# Create a variable called 'area' using the formula pi times radius squared\n",
    "area = pi * radius**2\n",
    "\n",
    "print(f\"The radius is {radius} and area is {area}\")"
   ]
  },
  {
   "cell_type": "markdown",
   "metadata": {},
   "source": [
    "## Strings\n",
    "Ok so now let's pivot and try strings"
   ]
  },
  {
   "cell_type": "code",
   "execution_count": null,
   "metadata": {},
   "outputs": [],
   "source": [
    "# Create a variable named 'my_name' and 'my_favorite_color' and set them to an appropriate value.\n",
    "# Remember that you must surround your string with 'single_quotes' or \"double_quotes\"\n",
    "\n",
    "\n",
    "\n",
    "print(f\"My name is {my_name} and my favorite color is {my_favorite_color}\")"
   ]
  },
  {
   "cell_type": "code",
   "execution_count": 1,
   "metadata": {
    "jupyter": {
     "source_hidden": true
    }
   },
   "outputs": [
    {
     "name": "stdout",
     "output_type": "stream",
     "text": [
      "My name is Matthew and my favorite color is Blue\n"
     ]
    }
   ],
   "source": [
    "my_name = \"Matthew\"\n",
    "my_favorite_color = \"Blue\"\n",
    "print(f\"My name is {my_name} and my favorite color is {my_favorite_color}\")"
   ]
  },
  {
   "cell_type": "markdown",
   "metadata": {},
   "source": [
    "## Fix my Bugs\n",
    "The next challenge isn't 'hard' from a coding perspective, but you'll have to think like a programmer. Swap a and b so that a will become what b is and that b will become what a is. Do this WITHOUT actually modifying the code in the 'Don't touch me' area.\n",
    "\n",
    "_(Fun Fact: The original exercise uses lists, which work here, but only on a technicality. This exercise is different than Kaggle's)_"
   ]
  },
  {
   "cell_type": "code",
   "execution_count": null,
   "metadata": {},
   "outputs": [],
   "source": [
    "# DON'T TOUCH BELOW\n",
    "a = 2\n",
    "b = 4\n",
    "# DON'T TOUCH ABOVE\n",
    "\n",
    "# Swap the values of a & b without actually saying like b = 2 and a = 4.\n",
    "\n",
    "\n",
    "print(f\"a is now {a} and b is now {b}\")"
   ]
  },
  {
   "cell_type": "code",
   "execution_count": 3,
   "metadata": {
    "jupyter": {
     "source_hidden": true
    }
   },
   "outputs": [
    {
     "name": "stdout",
     "output_type": "stream",
     "text": [
      "a is now 4 and b is now 2\n"
     ]
    }
   ],
   "source": [
    "# DON'T TOUCH BELOW\n",
    "a = 2\n",
    "b = 4\n",
    "# DON'T TOUCH ABOVE\n",
    "\n",
    "# Swap the values of a & b without actually saying like b = 2 and a = 4.\n",
    "old_a = a\n",
    "a = b\n",
    "b = old_a\n",
    "\n",
    "print(f\"a is now {a} and b is now {b}\")"
   ]
  },
  {
   "cell_type": "markdown",
   "metadata": {},
   "source": [
    "This time, do NOT add any new lines. Just modify the existing lines to make this code block run successfully."
   ]
  },
  {
   "cell_type": "code",
   "execution_count": null,
   "metadata": {},
   "outputs": [],
   "source": [
    "a = 2 + '5'\n",
    "print(f\"a={a}\")\n",
    "\n",
    "b = 2.0 + '4.0'\n",
    "print(f\"b={b}\")\n",
    "\n",
    "c = \"hello \" + world\n",
    "print(f\"c={c}\")"
   ]
  },
  {
   "cell_type": "code",
   "execution_count": 5,
   "metadata": {
    "jupyter": {
     "source_hidden": true
    }
   },
   "outputs": [
    {
     "name": "stdout",
     "output_type": "stream",
     "text": [
      "a=7\n",
      "b=6.0\n",
      "c=hello world\n"
     ]
    }
   ],
   "source": [
    "a = 2 + 5\n",
    "print(f\"a={a}\")\n",
    "\n",
    "b = 2.0 + 4.0\n",
    "print(f\"b={b}\")\n",
    "\n",
    "c = \"hello \" + \"world\"\n",
    "print(f\"c={c}\")"
   ]
  },
  {
   "cell_type": "markdown",
   "metadata": {},
   "source": [
    "We WANT the block below to return just '5'. Not 5.5, just 5. Modify the existing line to get that."
   ]
  },
  {
   "cell_type": "code",
   "execution_count": null,
   "metadata": {},
   "outputs": [],
   "source": [
    "# Don't just say x=5 or x=2+3\n",
    "x = 2.5 + 3\n",
    "\n",
    "print(f\"This answer better be 5: {x}\")"
   ]
  },
  {
   "cell_type": "code",
   "execution_count": 6,
   "metadata": {
    "jupyter": {
     "source_hidden": true
    }
   },
   "outputs": [
    {
     "name": "stdout",
     "output_type": "stream",
     "text": [
      "This answer better be 5: 5\n"
     ]
    }
   ],
   "source": [
    "# Don't just say x=5 or x=2+3\n",
    "x = int(2.5) + 3\n",
    "\n",
    "print(f\"This answer better be 5: {x}\")"
   ]
  },
  {
   "cell_type": "markdown",
   "metadata": {},
   "source": [
    "Finally, we WANT the block below to return 4224. Modify the existing line to get that."
   ]
  },
  {
   "cell_type": "code",
   "execution_count": null,
   "metadata": {},
   "outputs": [],
   "source": [
    "# Don't just say x = '4224'\n",
    "x = '42' + 24\n",
    "\n",
    "print(f\"This answer better be 4224: {x}\")"
   ]
  },
  {
   "cell_type": "code",
   "execution_count": 7,
   "metadata": {
    "jupyter": {
     "source_hidden": true
    }
   },
   "outputs": [
    {
     "name": "stdout",
     "output_type": "stream",
     "text": [
      "This answer better be 4224: 4224\n"
     ]
    }
   ],
   "source": [
    "# Don't just say x = '4224'\n",
    "x = '42' + '24'\n",
    "\n",
    "print(f\"This answer better be 4224: {x}\")"
   ]
  },
  {
   "cell_type": "markdown",
   "metadata": {},
   "source": [
    "## Next Steps\n",
    "Read the Kaggle Exercise for Lesson **3**, not Lesson 2. Lesson 2, in my opinion, is better at the end of the journey."
   ]
  }
 ],
 "metadata": {
  "kernelspec": {
   "display_name": "Python 3",
   "language": "python",
   "name": "python3"
  },
  "language_info": {
   "codemirror_mode": {
    "name": "ipython",
    "version": 3
   },
   "file_extension": ".py",
   "mimetype": "text/x-python",
   "name": "python",
   "nbconvert_exporter": "python",
   "pygments_lexer": "ipython3",
   "version": "3.7.6"
  }
 },
 "nbformat": 4,
 "nbformat_minor": 4
}
