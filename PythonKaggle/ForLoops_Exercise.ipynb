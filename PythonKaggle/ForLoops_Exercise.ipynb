{
 "cells": [
  {
   "cell_type": "markdown",
   "metadata": {},
   "source": [
    "# Lesson 5 (technically your 4th): Loops & List Comprehensions\n",
    "\n",
    "This is the tipping point in my opinion, on when you become a dangerous programmer. Let's do this.\n",
    "\n",
    "\n",
    "# Checking via Looping\n",
    "There is a bug in the for loop below because the only lucky number here should be 7... and it's also printing 0. Fix that."
   ]
  },
  {
   "cell_type": "code",
   "execution_count": null,
   "metadata": {},
   "outputs": [],
   "source": [
    "nums = [0, 1, 2, 3, 4, 5, 6, 7, 8, 9, 10]\n",
    "for num in nums:\n",
    "    if num % 7 == 0:\n",
    "        print(f\"Your lucky number is {num}\")"
   ]
  },
  {
   "cell_type": "code",
   "execution_count": 3,
   "metadata": {
    "jupyter": {
     "source_hidden": true
    }
   },
   "outputs": [
    {
     "name": "stdout",
     "output_type": "stream",
     "text": [
      "Your lucky number is 7\n"
     ]
    }
   ],
   "source": [
    "nums = [0, 1, 2, 3, 4, 5, 6, 7, 8, 9, 10]\n",
    "for num in nums:  # another way to 'fix' it would be to skip 0 here by having it index from nums[1:]\n",
    "    if num % 7 == 0 and num != 0:\n",
    "        print(f\"Your lucky number is {num}\")"
   ]
  },
  {
   "cell_type": "markdown",
   "metadata": {},
   "source": [
    "Using the same list of numbers, can you return me a list where:\n",
    "* If said number is less than 5, return False\n",
    "* Otherwise, return True\n",
    "\n",
    "I'm expecting you to build a for loop here, similar to what was started above."
   ]
  },
  {
   "cell_type": "code",
   "execution_count": null,
   "metadata": {},
   "outputs": [],
   "source": [
    "nums = [0, 1, 2, 3, 4, 5, 6, 7, 8, 9, 10]\n",
    "output_list = []  # Add your True/False bools here\n",
    "\n",
    "# Build your For loop here\n",
    "\n",
    "\n",
    "print(f\"The list you created is: {output_list}\")"
   ]
  },
  {
   "cell_type": "code",
   "execution_count": 4,
   "metadata": {
    "jupyter": {
     "source_hidden": true
    }
   },
   "outputs": [
    {
     "name": "stdout",
     "output_type": "stream",
     "text": [
      "The list you created is: [False, False, False, False, False, True, True, True, True, True, True]\n"
     ]
    }
   ],
   "source": [
    "nums = [0, 1, 2, 3, 4, 5, 6, 7, 8, 9, 10]\n",
    "output_list = []  # Add your True/False bools here\n",
    "\n",
    "# Build your For loop here\n",
    "for num in nums:\n",
    "    if num < 5:\n",
    "        output_list.append(False)\n",
    "    else:\n",
    "        output_list.append(True)\n",
    "\n",
    "print(f\"The list you created is: {output_list}\")"
   ]
  },
  {
   "cell_type": "markdown",
   "metadata": {},
   "source": [
    "## List Comprehensions\n",
    "With the list below, can you add +5 to every single value in a single line list comprehension?"
   ]
  },
  {
   "cell_type": "code",
   "execution_count": null,
   "metadata": {},
   "outputs": [],
   "source": [
    "nums = [0, 1, 2, 3, 4, 5, 6, 7, 8, 9, 10]\n",
    "\n",
    "# Build a list comprehension in the line below, adding 5 to each value in nums\n",
    "output_list = []\n",
    "\n",
    "print(f\"The list you created is: {output_list}\")"
   ]
  },
  {
   "cell_type": "code",
   "execution_count": 5,
   "metadata": {
    "jupyter": {
     "source_hidden": true
    }
   },
   "outputs": [
    {
     "name": "stdout",
     "output_type": "stream",
     "text": [
      "The list you created is: [5, 6, 7, 8, 9, 10, 11, 12, 13, 14, 15]\n"
     ]
    }
   ],
   "source": [
    "nums = [0, 1, 2, 3, 4, 5, 6, 7, 8, 9, 10]\n",
    "\n",
    "# Build a list comprehension in the line below, adding 5 to each value in nums\n",
    "output_list = [x+5 for x in nums]\n",
    "\n",
    "print(f\"The list you created is: {output_list}\")"
   ]
  },
  {
   "cell_type": "markdown",
   "metadata": {},
   "source": [
    "Now, can you return me the portion of numbers from this list which are greater than 5? Use a single line list comprehension to do it."
   ]
  },
  {
   "cell_type": "code",
   "execution_count": null,
   "metadata": {},
   "outputs": [],
   "source": [
    "nums = [0, 1, 2, 3, 4, 5, 6, 7, 8, 9, 10]\n",
    "\n",
    "# Build your list comprehension here\n",
    "output_list = []\n",
    "\n",
    "print(f\"The list you created is: {output_list}\")"
   ]
  },
  {
   "cell_type": "code",
   "execution_count": 6,
   "metadata": {
    "jupyter": {
     "source_hidden": true
    }
   },
   "outputs": [
    {
     "name": "stdout",
     "output_type": "stream",
     "text": [
      "The list you created is: [6, 7, 8, 9, 10]\n"
     ]
    }
   ],
   "source": [
    "nums = [0, 1, 2, 3, 4, 5, 6, 7, 8, 9, 10]\n",
    "\n",
    "# Build your list comprehension here\n",
    "output_list = [x for x in nums if x > 5]\n",
    "\n",
    "print(f\"The list you created is: {output_list}\")"
   ]
  },
  {
   "cell_type": "markdown",
   "metadata": {},
   "source": [
    "## Range\n",
    "Can you redo the last exercise, but this time, delete the line nums and replace it with the range() function?"
   ]
  },
  {
   "cell_type": "code",
   "execution_count": null,
   "metadata": {},
   "outputs": [],
   "source": [
    "# Build your list comprehension here, so that it loops between the numbers 0-10 via range()\n",
    "output_list = []\n",
    "print(f\"The list you created is: {output_list}\")"
   ]
  },
  {
   "cell_type": "code",
   "execution_count": 7,
   "metadata": {
    "jupyter": {
     "source_hidden": true
    }
   },
   "outputs": [
    {
     "name": "stdout",
     "output_type": "stream",
     "text": [
      "The list you created is: [6, 7, 8, 9]\n"
     ]
    }
   ],
   "source": [
    "# Build your list comprehension here, so that it loops between the numbers 0-10 via range()\n",
    "output_list = [x for x in range(11) if x>5]  # Remember, range stops at the digit before your last value.\n",
    "print(f\"The list you created is: {output_list}\")"
   ]
  },
  {
   "cell_type": "markdown",
   "metadata": {},
   "source": [
    "## Enumerate\n",
    "This is something Kaggle didn't teach you, but it's super helpful! Let's say you're looping in a list and not only do you want to know what value you're currently looped on, but also, what integer index value it is. For example in\n",
    "\n",
    "`my_list = ['Hello', 'World', 'I', 'Am', 'Matthew']`\n",
    "\n",
    "Let's say you'd like to loop to 'Hello', knowing it's item 0, then to 'World' for item 1, etc.\n",
    "\n",
    "You can do that in Python with the Enumerate Function which looks like the below -- give it a run!"
   ]
  },
  {
   "cell_type": "code",
   "execution_count": null,
   "metadata": {},
   "outputs": [],
   "source": [
    "my_list = ['Hello', 'World', 'I', 'Am', 'Matthew']\n",
    "for idx, value in enumerate(my_list):\n",
    "    print(idx, value)"
   ]
  },
  {
   "cell_type": "markdown",
   "metadata": {},
   "source": [
    "You can even do something like that in a list comprehension:"
   ]
  },
  {
   "cell_type": "code",
   "execution_count": null,
   "metadata": {},
   "outputs": [],
   "source": [
    "my_list = ['Hello', 'World', 'I', 'Am', 'Matthew']\n",
    "print([(idx_and_value[0], idx_and_value[1]) for idx_and_value in enumerate(my_list)])"
   ]
  },
  {
   "cell_type": "markdown",
   "metadata": {},
   "source": [
    "So for your final challenge:\n",
    "\n",
    "1. Take a RANGE of numbers from 0 to 10\n",
    "2. Add 5 to all of them\n",
    "3. Then print to me BOTH the index value (i.e. original value) and the new value?\n",
    "4. You can use a For Loop for this."
   ]
  },
  {
   "cell_type": "code",
   "execution_count": null,
   "metadata": {},
   "outputs": [],
   "source": [
    "# Build your for loop here\n",
    "_________\n",
    "    print(f\"The value at {idx} position is {num}\")"
   ]
  },
  {
   "cell_type": "code",
   "execution_count": 15,
   "metadata": {
    "jupyter": {
     "source_hidden": true
    }
   },
   "outputs": [
    {
     "name": "stdout",
     "output_type": "stream",
     "text": [
      "The value at 0 position is 0\n",
      "The value at 1 position is 1\n",
      "The value at 2 position is 2\n",
      "The value at 3 position is 3\n",
      "The value at 4 position is 4\n",
      "The value at 5 position is 5\n",
      "The value at 6 position is 6\n",
      "The value at 7 position is 7\n",
      "The value at 8 position is 8\n",
      "The value at 9 position is 9\n",
      "The value at 10 position is 10\n"
     ]
    }
   ],
   "source": [
    "# Build your for loop here\n",
    "for idx, num in enumerate(range(11)):\n",
    "    print(f\"The value at {idx} position is {num}\")"
   ]
  },
  {
   "cell_type": "markdown",
   "metadata": {},
   "source": [
    "## What's Faster?\n",
    "This isn't an exercise persay but just food for thought. For Loops & List Comprehensions, as you can tell, do similar things. But one of them is much faster then the other. Let's do a test. Run the two blocks of code below. I modified them so they'll tell you how long they take."
   ]
  },
  {
   "cell_type": "code",
   "execution_count": null,
   "metadata": {},
   "outputs": [],
   "source": [
    "%%time\n",
    "output_list = []\n",
    "for num in range(10000000):\n",
    "    output_list.append(2.5 * (num + 500))\n",
    "print('All Done')"
   ]
  },
  {
   "cell_type": "code",
   "execution_count": null,
   "metadata": {},
   "outputs": [],
   "source": [
    "%%time\n",
    "output_list = [2.5 * (num + 500) in range(10000000)]\n",
    "print('All Done!')"
   ]
  },
  {
   "cell_type": "markdown",
   "metadata": {},
   "source": [
    "While I don't know how fast it took on your computer, I can tell you on my Computer, the for loop took 1.54 Seconds and the list comprehension took 313 milliseconds, which is far faster!\n",
    "\n",
    "Now I know this seems silly but think about if you're doing something far more mathmatically complex or with far larger data. The list comprehension, at scale, could save you a ton of time! Just some food for thought."
   ]
  },
  {
   "cell_type": "markdown",
   "metadata": {},
   "source": [
    "## What's Next?\n",
    "Jump to the next Kaggle Lesson about Strings & Dictionary."
   ]
  },
  {
   "cell_type": "code",
   "execution_count": null,
   "metadata": {},
   "outputs": [],
   "source": []
  }
 ],
 "metadata": {
  "kernelspec": {
   "display_name": "Python 3",
   "language": "python",
   "name": "python3"
  },
  "language_info": {
   "codemirror_mode": {
    "name": "ipython",
    "version": 3
   },
   "file_extension": ".py",
   "mimetype": "text/x-python",
   "name": "python",
   "nbconvert_exporter": "python",
   "pygments_lexer": "ipython3",
   "version": "3.7.6"
  }
 },
 "nbformat": 4,
 "nbformat_minor": 4
}
